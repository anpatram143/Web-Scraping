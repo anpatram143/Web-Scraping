{
 "cells": [
  {
   "cell_type": "code",
   "execution_count": 1,
   "metadata": {},
   "outputs": [],
   "source": [
    "from bs4 import BeautifulSoup"
   ]
  },
  {
   "cell_type": "code",
   "execution_count": 2,
   "metadata": {},
   "outputs": [],
   "source": [
    "doc=\"\"\"<catlog>\n",
    "    <book>\n",
    "        <title>Chava </title><author>Shivaji Sawant</author><price>250</price> <year>2001</year>\n",
    "    </book>\n",
    "    <book>\n",
    "        <title>Shamachi Aai</title> <author>Sane Guruji</author><price>300</price><year>1997</year> \n",
    "     </book>\n",
    "     \n",
    "      <book>\n",
    "        <title>Shriman Yogi</title> <author>Ranajit Desai</author><price>400</price><year>2004</year> \n",
    "     </book>  \n",
    "     <book>\n",
    "        <title>Swami</title> <author>Ranajit Desai</author><price>500</price><year>1998</year> \n",
    "     </book>  \n",
    "     <book>\n",
    "        <title>Panipat</title> <author>Vishwas Patil</author><price>520</price><year>1650</year> \n",
    "     </book>  \n",
    "     <book>\n",
    "        <title>Yayati</title> <author>Vishnu Khandeker</author><price>150</price><year>2003</year> \n",
    "     </book>  \n",
    "     <book>\n",
    "        <title>Shala</title> <author>Milind Bokil</author><price>350</price><year>2006</year> \n",
    "     </book>  \n",
    "     <book>\n",
    "        <title>Vyaktti Ani Valli</title> <author>P.L.Deshpande</author><price>560</price><year>2009</year> \n",
    "     </book>  \n",
    "     <book>\n",
    "        <title>Bangarwadi</title> <author>Vyankatesh Madgulkar</author><price>200</price><year>2015</year> \n",
    "     </book>  \n",
    "     <book>\n",
    "        <title>PavanKhind</title> <author>Ranjit Desai</author><price>900</price><year>2013</year> \n",
    "     </book>  \n",
    "</catlog>\n",
    "\"\"\""
   ]
  },
  {
   "cell_type": "code",
   "execution_count": 4,
   "metadata": {},
   "outputs": [],
   "source": [
    "soup=BeautifulSoup(doc,\"html.parser\")"
   ]
  },
  {
   "cell_type": "code",
   "execution_count": 6,
   "metadata": {},
   "outputs": [
    {
     "name": "stdout",
     "output_type": "stream",
     "text": [
      "<catlog>\n",
      "<book>\n",
      "<title>Chava </title><author>Shivaji Sawant</author><price>250</price> <year>2001</year>\n",
      "</book>\n",
      "<book>\n",
      "<title>Shamachi Aai</title> <author>Sane Guruji</author><price>300</price><year>1997</year>\n",
      "</book>\n",
      "<book>\n",
      "<title>Shriman Yogi</title> <author>Ranajit Desai</author><price>400</price><year>2004</year>\n",
      "</book>\n",
      "<book>\n",
      "<title>Swami</title> <author>Ranajit Desai</author><price>500</price><year>1998</year>\n",
      "</book>\n",
      "<book>\n",
      "<title>Panipat</title> <author>Vishwas Patil</author><price>520</price><year>1650</year>\n",
      "</book>\n",
      "<book>\n",
      "<title>Yayati</title> <author>Vishnu Khandeker</author><price>150</price><year>2003</year>\n",
      "</book>\n",
      "<book>\n",
      "<title>Shala</title> <author>Milind Bokil</author><price>350</price><year>2006</year>\n",
      "</book>\n",
      "<book>\n",
      "<title>Vyaktti Ani Valli</title> <author>P.L.Deshpande</author><price>560</price><year>2009</year>\n",
      "</book>\n",
      "<book>\n",
      "<title>Bangarwadi</title> <author>Vyankatesh Madgulkar</author><price>200</price><year>2015</year>\n",
      "</book>\n",
      "<book>\n",
      "<title>PavanKhind</title> <author>Ranjit Desai</author><price>900</price><year>2013</year>\n",
      "</book>\n",
      "</catlog>\n"
     ]
    }
   ],
   "source": [
    "print(soup.catlog)"
   ]
  },
  {
   "cell_type": "code",
   "execution_count": 8,
   "metadata": {},
   "outputs": [
    {
     "name": "stdout",
     "output_type": "stream",
     "text": [
      "<book>\n",
      "<title>Chava </title><author>Shivaji Sawant</author><price>250</price> <year>2001</year>\n",
      "</book>\n"
     ]
    }
   ],
   "source": [
    "print(soup.book)"
   ]
  },
  {
   "cell_type": "code",
   "execution_count": 9,
   "metadata": {},
   "outputs": [
    {
     "name": "stdout",
     "output_type": "stream",
     "text": [
      "<title>Chava </title>\n"
     ]
    }
   ],
   "source": [
    "print(soup.catlog.title)"
   ]
  },
  {
   "cell_type": "markdown",
   "metadata": {},
   "source": [
    "Navigate down using .stripped_strings"
   ]
  },
  {
   "cell_type": "code",
   "execution_count": 10,
   "metadata": {},
   "outputs": [
    {
     "name": "stdout",
     "output_type": "stream",
     "text": [
      "'Chava'\n",
      "'Shivaji Sawant'\n",
      "'250'\n",
      "'2001'\n",
      "'Shamachi Aai'\n",
      "'Sane Guruji'\n",
      "'300'\n",
      "'1997'\n",
      "'Shriman Yogi'\n",
      "'Ranajit Desai'\n",
      "'400'\n",
      "'2004'\n",
      "'Swami'\n",
      "'Ranajit Desai'\n",
      "'500'\n",
      "'1998'\n",
      "'Panipat'\n",
      "'Vishwas Patil'\n",
      "'520'\n",
      "'1650'\n",
      "'Yayati'\n",
      "'Vishnu Khandeker'\n",
      "'150'\n",
      "'2003'\n",
      "'Shala'\n",
      "'Milind Bokil'\n",
      "'350'\n",
      "'2006'\n",
      "'Vyaktti Ani Valli'\n",
      "'P.L.Deshpande'\n",
      "'560'\n",
      "'2009'\n",
      "'Bangarwadi'\n",
      "'Vyankatesh Madgulkar'\n",
      "'200'\n",
      "'2015'\n",
      "'PavanKhind'\n",
      "'Ranjit Desai'\n",
      "'900'\n",
      "'2013'\n"
     ]
    }
   ],
   "source": [
    "for string in soup.stripped_strings:\n",
    "    print(repr(string))"
   ]
  },
  {
   "cell_type": "markdown",
   "metadata": {},
   "source": [
    "Navigate up using .parent"
   ]
  },
  {
   "cell_type": "code",
   "execution_count": null,
   "metadata": {},
   "outputs": [],
   "source": []
  },
  {
   "cell_type": "code",
   "execution_count": 15,
   "metadata": {},
   "outputs": [
    {
     "data": {
      "text/plain": [
       "<catlog>\n",
       "<book>\n",
       "<title>Chava </title><author>Shivaji Sawant</author><price>250</price> <year>2001</year>\n",
       "</book>\n",
       "<book>\n",
       "<title>Shamachi Aai</title> <author>Sane Guruji</author><price>300</price><year>1997</year>\n",
       "</book>\n",
       "<book>\n",
       "<title>Shriman Yogi</title> <author>Ranajit Desai</author><price>400</price><year>2004</year>\n",
       "</book>\n",
       "<book>\n",
       "<title>Swami</title> <author>Ranajit Desai</author><price>500</price><year>1998</year>\n",
       "</book>\n",
       "<book>\n",
       "<title>Panipat</title> <author>Vishwas Patil</author><price>520</price><year>1650</year>\n",
       "</book>\n",
       "<book>\n",
       "<title>Yayati</title> <author>Vishnu Khandeker</author><price>150</price><year>2003</year>\n",
       "</book>\n",
       "<book>\n",
       "<title>Shala</title> <author>Milind Bokil</author><price>350</price><year>2006</year>\n",
       "</book>\n",
       "<book>\n",
       "<title>Vyaktti Ani Valli</title> <author>P.L.Deshpande</author><price>560</price><year>2009</year>\n",
       "</book>\n",
       "<book>\n",
       "<title>Bangarwadi</title> <author>Vyankatesh Madgulkar</author><price>200</price><year>2015</year>\n",
       "</book>\n",
       "<book>\n",
       "<title>PavanKhind</title> <author>Ranjit Desai</author><price>900</price><year>2013</year>\n",
       "</book>\n",
       "</catlog>"
      ]
     },
     "execution_count": 15,
     "metadata": {},
     "output_type": "execute_result"
    }
   ],
   "source": [
    "soup.catlog.parent"
   ]
  },
  {
   "cell_type": "markdown",
   "metadata": {},
   "source": [
    "Navigate back and forth"
   ]
  },
  {
   "cell_type": "code",
   "execution_count": 19,
   "metadata": {},
   "outputs": [
    {
     "name": "stdout",
     "output_type": "stream",
     "text": [
      "<book>\n",
      "<title>Chava </title><author>Shivaji Sawant</author><price>250</price> <year>2001</year>\n",
      "</book>\n"
     ]
    }
   ],
   "source": [
    "element_soup=soup.catlog.book\n",
    "print(element_soup)"
   ]
  },
  {
   "cell_type": "code",
   "execution_count": 22,
   "metadata": {},
   "outputs": [
    {
     "data": {
      "text/plain": [
       "'\\n'"
      ]
     },
     "execution_count": 22,
     "metadata": {},
     "output_type": "execute_result"
    }
   ],
   "source": [
    "next_element=element_soup.next_element\n",
    "next_element"
   ]
  }
 ],
 "metadata": {
  "kernelspec": {
   "display_name": "Python 3",
   "language": "python",
   "name": "python3"
  },
  "language_info": {
   "codemirror_mode": {
    "name": "ipython",
    "version": 3
   },
   "file_extension": ".py",
   "mimetype": "text/x-python",
   "name": "python",
   "nbconvert_exporter": "python",
   "pygments_lexer": "ipython3",
   "version": "3.6.5"
  }
 },
 "nbformat": 4,
 "nbformat_minor": 2
}
