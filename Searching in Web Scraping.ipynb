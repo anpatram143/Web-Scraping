{
 "cells": [
  {
   "cell_type": "code",
   "execution_count": 11,
   "metadata": {},
   "outputs": [],
   "source": [
    "from bs4 import BeautifulSoup"
   ]
  },
  {
   "cell_type": "code",
   "execution_count": 12,
   "metadata": {},
   "outputs": [],
   "source": [
    "doc=\"\"\"<!DOCTYPE html>\n",
    "<html>\n",
    "    <head><link rel=\"stylesheet\" type=\"text/css\" href=\"newcss.css\"></head>\n",
    "    <body  >\n",
    "        <form  action=\"newhtml.html\" method=\"get\">\n",
    "            <h1> Registration form</h1>\n",
    "                <table >\n",
    "                    <tr>\n",
    "                        <td>Enter Name:</td><td><input type=\"text\" name=\"name\"><br></td></tr>\n",
    "                    <tr>\n",
    "                        \n",
    "                        <td>Enter Address:</td><td><input type=\"text\" name=\"address\"></td><br></tr>\n",
    "                    <tr>\n",
    "                    <tr> <td>Enter mobile no:</td><td><input type=\"text\" name=\"mo_no\"  maxlength=\"10\"></td><br></tr>\n",
    "                    <tr><td>Enter Email ID :</td><td><input type=\"mail\" name=\"mail\"></td><br></tr>\n",
    "                    <tr><td>Enter Pincode</td><td><input type=\"text\" name=\"pin\" maxlength=\"6\"></td><br></tr>\n",
    "                    <tr><td>Gender :<td> male <input type=\"radio\" name=\"gender\" value=\"male\" > &nbsp; female<input type=\"radio\" name=\"gender\" value=\"female\"><br></tr>\n",
    "                    \n",
    "                    <tr><td>City:</td><td><select name=\"city\">\n",
    "                                            <option value=\"-1\">select</option>\n",
    "                                            <option value=\"1\">Pune</option>\n",
    "                                            <option value=\"2\">mumbai</option>\n",
    "                                            <option value=\"3\">delhi</option>\n",
    "                                            <option value=\"4\">indapur</option>\n",
    "                                            <option value=\"5\">akluj</option>\n",
    "                                            <option value=\"6\">hedrabad</option>\n",
    "                                            \n",
    "                                            \n",
    "                            </select></td></tr>\n",
    "                    <tr><td>State</td><td><select name=\"state\">\n",
    "                                            <option value=\"-1\">select</option>\n",
    "                                            <option value=\"1\">Maharashtra</option>\n",
    "                                            <option value=\"2\">Gujrat</option>\n",
    "                                            <option value=\"3\">Punjab</option>\n",
    "                                            <option value=\"4\">Karnatak</option>\n",
    "                                            <option value=\"5\">Bangal</option>\n",
    "                                            \n",
    "                                            \n",
    "                    <tr><td>Course</td><td><select name=\"course\">\n",
    "                                            <option value=\"-1\">select</option>\n",
    "                                            <option value=\"1\">Engineering</option>\n",
    "                                            <option value=\"2\">Medical</option>\n",
    "                                            <option value=\"3\">BSC</option>\n",
    "                                            <option value=\"4\">BCS</option>\n",
    "                                            <option value=\"5\">Pharmacy</option>\n",
    "                                            <option value=\"6\">MSC</option>                        \n",
    "                                            \n",
    "                                            \n",
    "                            </select></td></tr>\n",
    "                    <tr><td>District</td><td><select name=\"dist\">\n",
    "                                            <option value=\"-1\">select</option>\n",
    "                                            <option value=\"1\">Pune</option>\n",
    "                                            <option value=\"2\">mumbai</option>\n",
    "                                            <option value=\"3\">Solapur</option>\n",
    "                                            <option value=\"4\">Nagar</option>\n",
    "                                            <option value=\"5\">Nashik</option>\n",
    "                                            <option value=\"6\">Aurangabad</option>\n",
    "                                            \n",
    "                                            \n",
    "                            </select></td></tr>\n",
    "                    <tr>\n",
    "                  <td><input type=\"submit\" value=\"submit\" size=\"5\"></td>\n",
    "                    \n",
    "                  <td><input type=\"reset\" value=\"Reset\" size=\"5\"></td></tr>\n",
    "            </table>\n",
    "        </form>\n",
    "    </body>\n",
    "</html>\n",
    "\"\"\""
   ]
  },
  {
   "cell_type": "code",
   "execution_count": null,
   "metadata": {},
   "outputs": [],
   "source": []
  },
  {
   "cell_type": "code",
   "execution_count": 13,
   "metadata": {},
   "outputs": [],
   "source": [
    "soup=BeautifulSoup(doc,\"lxml\")"
   ]
  },
  {
   "cell_type": "code",
   "execution_count": 14,
   "metadata": {
    "scrolled": true
   },
   "outputs": [
    {
     "data": {
      "text/plain": [
       "['html', <html>\n",
       " <head><link href=\"newcss.css\" rel=\"stylesheet\" type=\"text/css\"/></head>\n",
       " <body>\n",
       " <form action=\"newhtml.html\" method=\"get\">\n",
       " <h1> Registration form</h1>\n",
       " <table>\n",
       " <tr>\n",
       " <td>Enter Name:</td><td><input name=\"name\" type=\"text\"/><br/></td></tr>\n",
       " <tr>\n",
       " <td>Enter Address:</td><td><input name=\"address\" type=\"text\"/></td><br/></tr>\n",
       " <tr>\n",
       " </tr><tr> <td>Enter mobile no:</td><td><input maxlength=\"10\" name=\"mo_no\" type=\"text\"/></td><br/></tr>\n",
       " <tr><td>Enter Email ID :</td><td><input name=\"mail\" type=\"mail\"/></td><br/></tr>\n",
       " <tr><td>Enter Pincode</td><td><input maxlength=\"6\" name=\"pin\" type=\"text\"/></td><br/></tr>\n",
       " <tr><td>Gender :</td><td> male <input name=\"gender\" type=\"radio\" value=\"male\"/>   female<input name=\"gender\" type=\"radio\" value=\"female\"/><br/></td></tr>\n",
       " <tr><td>City:</td><td><select name=\"city\">\n",
       " <option value=\"-1\">select</option>\n",
       " <option value=\"1\">Pune</option>\n",
       " <option value=\"2\">mumbai</option>\n",
       " <option value=\"3\">delhi</option>\n",
       " <option value=\"4\">indapur</option>\n",
       " <option value=\"5\">akluj</option>\n",
       " <option value=\"6\">hedrabad</option>\n",
       " </select></td></tr>\n",
       " <tr><td>State</td><td><select name=\"state\">\n",
       " <option value=\"-1\">select</option>\n",
       " <option value=\"1\">Maharashtra</option>\n",
       " <option value=\"2\">Gujrat</option>\n",
       " <option value=\"3\">Punjab</option>\n",
       " <option value=\"4\">Karnatak</option>\n",
       " <option value=\"5\">Bangal</option>\n",
       " <tr><td>Course</td><td><select name=\"course\">\n",
       " <option value=\"-1\">select</option>\n",
       " <option value=\"1\">Engineering</option>\n",
       " <option value=\"2\">Medical</option>\n",
       " <option value=\"3\">BSC</option>\n",
       " <option value=\"4\">BCS</option>\n",
       " <option value=\"5\">Pharmacy</option>\n",
       " <option value=\"6\">MSC</option>\n",
       " </select></td></tr>\n",
       " <tr><td>District</td><td><select name=\"dist\">\n",
       " <option value=\"-1\">select</option>\n",
       " <option value=\"1\">Pune</option>\n",
       " <option value=\"2\">mumbai</option>\n",
       " <option value=\"3\">Solapur</option>\n",
       " <option value=\"4\">Nagar</option>\n",
       " <option value=\"5\">Nashik</option>\n",
       " <option value=\"6\">Aurangabad</option>\n",
       " </select></td></tr>\n",
       " <tr>\n",
       " <td><input size=\"5\" type=\"submit\" value=\"submit\"/></td>\n",
       " <td><input size=\"5\" type=\"reset\" value=\"Reset\"/></td></tr>\n",
       " </select></td></tr></table>\n",
       " </form>\n",
       " </body>\n",
       " </html>, '\\n']"
      ]
     },
     "execution_count": 14,
     "metadata": {},
     "output_type": "execute_result"
    }
   ],
   "source": [
    "soup.contents"
   ]
  },
  {
   "cell_type": "markdown",
   "metadata": {},
   "source": [
    "Find specific single element "
   ]
  },
  {
   "cell_type": "code",
   "execution_count": 19,
   "metadata": {},
   "outputs": [],
   "source": [
    "tag_tr=soup.find('tr')"
   ]
  },
  {
   "cell_type": "code",
   "execution_count": 20,
   "metadata": {},
   "outputs": [
    {
     "name": "stdout",
     "output_type": "stream",
     "text": [
      "<class 'bs4.element.Tag'>\n"
     ]
    }
   ],
   "source": [
    "print(type(tag_tr))"
   ]
  },
  {
   "cell_type": "code",
   "execution_count": 21,
   "metadata": {},
   "outputs": [
    {
     "name": "stdout",
     "output_type": "stream",
     "text": [
      "<tr>\n",
      "<td>Enter Name:</td><td><input name=\"name\" type=\"text\"/><br/></td></tr>\n"
     ]
    }
   ],
   "source": [
    "print(tag_tr)"
   ]
  },
  {
   "cell_type": "markdown",
   "metadata": {},
   "source": [
    "Search only string"
   ]
  },
  {
   "cell_type": "code",
   "execution_count": 27,
   "metadata": {},
   "outputs": [],
   "source": [
    "search_onlystr=soup.findAll(text=[\"Email\"])"
   ]
  },
  {
   "cell_type": "code",
   "execution_count": 28,
   "metadata": {},
   "outputs": [
    {
     "name": "stdout",
     "output_type": "stream",
     "text": [
      "[]\n"
     ]
    }
   ],
   "source": [
    "print(search_onlystr)"
   ]
  },
  {
   "cell_type": "code",
   "execution_count": 29,
   "metadata": {},
   "outputs": [],
   "source": [
    "css_class_search=soup.find(attrs={'class':'demo'})"
   ]
  },
  {
   "cell_type": "markdown",
   "metadata": {},
   "source": [
    "Reguler expression to search email_id"
   ]
  },
  {
   "cell_type": "code",
   "execution_count": 30,
   "metadata": {},
   "outputs": [],
   "source": [
    "import re\n",
    "email=\"\"\"<br/>\n",
    "<p>my email id is:</p>\n",
    "anpat.ram@gmail.com\"\"\""
   ]
  },
  {
   "cell_type": "code",
   "execution_count": 31,
   "metadata": {},
   "outputs": [],
   "source": [
    "soup_email=BeautifulSoup(email,\"lxml\")"
   ]
  },
  {
   "cell_type": "code",
   "execution_count": 32,
   "metadata": {},
   "outputs": [],
   "source": [
    "reg_email=re.compile(\"\\w+\\@\\w+\\.\\w+\")"
   ]
  },
  {
   "cell_type": "code",
   "execution_count": 35,
   "metadata": {},
   "outputs": [
    {
     "name": "stdout",
     "output_type": "stream",
     "text": [
      "\n",
      "anpat.ram@gmail.com\n"
     ]
    }
   ],
   "source": [
    "email_find=soup_email.find(text=reg_email)\n",
    "print(email_find)"
   ]
  }
 ],
 "metadata": {
  "kernelspec": {
   "display_name": "Python 3",
   "language": "python",
   "name": "python3"
  },
  "language_info": {
   "codemirror_mode": {
    "name": "ipython",
    "version": 3
   },
   "file_extension": ".py",
   "mimetype": "text/x-python",
   "name": "python",
   "nbconvert_exporter": "python",
   "pygments_lexer": "ipython3",
   "version": "3.6.5"
  }
 },
 "nbformat": 4,
 "nbformat_minor": 2
}
